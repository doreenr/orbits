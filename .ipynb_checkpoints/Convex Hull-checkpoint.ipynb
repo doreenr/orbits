{
 "metadata": {
  "name": "",
  "signature": "sha256:129737f97b4b003857e69da67f3515ab0caedb7560d912ab200cfde7547bb4dd"
 },
 "nbformat": 3,
 "nbformat_minor": 0,
 "worksheets": [
  {
   "cells": [
    {
     "cell_type": "code",
     "collapsed": false,
     "input": [
      "# %pylab inline"
     ],
     "language": "python",
     "metadata": {},
     "outputs": [],
     "prompt_number": 1
    },
    {
     "cell_type": "code",
     "collapsed": false,
     "input": [
      "import scipy\n",
      "from scipy import spatial\n",
      "import matplotlib.pyplot as plt\n",
      "import numpy as np\n",
      "#import os\n",
      "#os.getcwd()\n",
      "\n",
      "# hullpoints = spatial.ConvexHull(points).points\n",
      "from numpy import genfromtxt\n",
      "path = ('/Users/Doreen/github/orbits/UniversalMaven/outputall10000.csv')\n",
      "p1 = genfromtxt(path, delimiter=',')\n",
      "\n",
      "print p1.shape\n",
      "\n",
      "from scipy.spatial import ConvexHull\n",
      "from scipy.spatial import Delaunay\n",
      "# hull = ConvexHull(points, incremental=True, qhull_options = \"Qx\")\n",
      "# hullpoints = spatial.ConvexHull(points).points\n",
      "# hull = Delaunay(points)\n",
      "\n",
      "from sklearn.decomposition import PCA\n",
      "model = PCA(n_components=4).fit(p1)\n",
      "\n",
      "proj_points = model.transform(p1)\n",
      "hull_kinda = ConvexHull(proj_points, incremental=True, qhull_options = \"Qx\")\n",
      "hull_kinda.simplices\n",
      "hull_kinda.vertices\n",
      "\n",
      "#backpoints = model.inverse_transform(hull_kinda.vertices)\n",
      "#print points\n",
      "#print backpoints"
     ],
     "language": "python",
     "metadata": {},
     "outputs": [
      {
       "output_type": "stream",
       "stream": "stdout",
       "text": [
        "(10000, 6)\n"
       ]
      },
      {
       "metadata": {},
       "output_type": "pyout",
       "prompt_number": 2,
       "text": [
        "array([  73,   74,   75,   76,  172,  173,  255,  256,  436,  437,  438,\n",
        "        754,  755,  756,  799,  800, 1072, 1073, 1116, 1117, 1118, 1353,\n",
        "       1354, 1390, 1391, 1408, 1409, 1481, 1486, 1487, 1505, 1506, 1602,\n",
        "       1603, 1619, 1620, 1663, 1700, 1752, 1753, 1754, 1796, 1797, 1844,\n",
        "       1845, 1894, 2025, 2026, 2027, 2070, 2071, 2072, 2115, 2116, 2207,\n",
        "       2208, 2299, 2381, 2382, 2434, 2617, 2618, 2706, 2707, 2708, 2752,\n",
        "       2838, 2839, 2936, 2937, 3033, 3070, 3297, 3298, 3299, 3433, 3434,\n",
        "       3615, 3616, 3659, 3660, 3661, 3778, 3779, 3793, 3794, 3796, 3797,\n",
        "       3896, 3897, 3933, 3934, 3977, 3978, 3979, 4075, 4076, 4162, 4163,\n",
        "       4295, 4296, 4297, 4340, 4341, 4366, 4367, 4561, 4657, 4658, 4659,\n",
        "       4791, 4792, 4886, 4924, 4925, 4975, 4976, 4977, 5160, 5161, 5203,\n",
        "       5204, 5249, 5250, 5338, 5339, 5385, 5386, 5566, 5567, 5568, 5656,\n",
        "       5657, 5699, 5700, 5749, 5797, 5798, 5840, 5841, 5884, 5885, 5886,\n",
        "       5929, 5930, 5931, 6158, 6159, 6293, 6321, 6322, 6336, 6337, 6380,\n",
        "       6439, 6440, 6477, 6478, 6520, 6521, 6522, 6565, 6566, 6611, 6705,\n",
        "       6706, 6838, 6839, 6840, 7155, 7156, 7157, 7227, 7228, 7324, 7325,\n",
        "       7334, 7335, 7337, 7338, 7421, 7422, 7467, 7468, 7518, 7519, 7520,\n",
        "       7701, 7703, 7704, 7836, 7837, 7838, 7881, 7882, 8199, 8200, 8427,\n",
        "       8560, 8561, 8658, 8659, 8745, 8755, 8756, 8864, 8865, 8879, 8880,\n",
        "       8926, 8927, 8982, 8983, 9063, 9107, 9108, 9109, 9198, 9290, 9338,\n",
        "       9381, 9382, 9425, 9426, 9427, 9470, 9471, 9472, 9653, 9700, 9701,\n",
        "       9743, 9744, 9745, 9788, 9789, 9834, 9877, 9878], dtype=int32)"
       ]
      }
     ]
    },
    {
     "cell_type": "code",
     "collapsed": false,
     "input": [
      "import numpy as np\n",
      "from mpl_toolkits.mplot3d import Axes3D\n",
      "import matplotlib.pyplot as plt\n",
      "import pandas as pd\n",
      "\n",
      "weights = pd.Series([0, .2, .4, .6, .8, 1])\n",
      "colors = weights.apply(lambda x: (0,0,1,x)).tolist()\n",
      "\n",
      "fig = plt.figure()\n",
      "ax = fig.add_subplot(111, projection='3d')\n",
      "b = len(p1)\n",
      "\n",
      "for a in range(0, len(p1)):\n",
      "    x = p1[a][0]\n",
      "    y = p1[a][1]\n",
      "    z = p1[a][2]\n",
      "    ax.scatter(x, y, z, color = colors)\n",
      "plt.show()\n"
     ],
     "language": "python",
     "metadata": {},
     "outputs": []
    },
    {
     "cell_type": "code",
     "collapsed": false,
     "input": [
      "# bx = fig.add_subplot(111, projection='3d')\n",
      "\n",
      "for a in hull_kinda.vertices:\n",
      "    x = points[a][0]\n",
      "    y = points[a][1]\n",
      "    z = points[a][2]\n",
      "    ax.scatter(x, y, z, color = colors)\n",
      "    \n",
      "plt.show()"
     ],
     "language": "python",
     "metadata": {},
     "outputs": []
    },
    {
     "cell_type": "code",
     "collapsed": false,
     "input": [],
     "language": "python",
     "metadata": {},
     "outputs": []
    }
   ],
   "metadata": {}
  }
 ]
}